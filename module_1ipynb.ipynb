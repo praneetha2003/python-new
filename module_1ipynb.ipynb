{
  "nbformat": 4,
  "nbformat_minor": 0,
  "metadata": {
    "colab": {
      "name": "module 1ipynb",
      "provenance": [],
      "authorship_tag": "ABX9TyPYYgYNMItZWq5pS8W16Lo2",
      "include_colab_link": true
    },
    "kernelspec": {
      "name": "python3",
      "display_name": "Python 3"
    },
    "language_info": {
      "name": "python"
    }
  },
  "cells": [
    {
      "cell_type": "markdown",
      "metadata": {
        "id": "view-in-github",
        "colab_type": "text"
      },
      "source": [
        "<a href=\"https://colab.research.google.com/github/praneetha2003/python-new/blob/module-1/module_1ipynb.ipynb\" target=\"_parent\"><img src=\"https://colab.research.google.com/assets/colab-badge.svg\" alt=\"Open In Colab\"/></a>"
      ]
    },
    {
      "cell_type": "markdown",
      "source": [
        "Accept input from user and store it in variable and print the value"
      ],
      "metadata": {
        "id": "FuLGacxRd74d"
      }
    },
    {
      "cell_type": "code",
      "source": [
        "a=400\n",
        "b=300\n",
        "c=int(input())\n",
        "d=int(input())\n",
        "e=a-(b)+(c)-(d)\n",
        "print(e)"
      ],
      "metadata": {
        "colab": {
          "base_uri": "https://localhost:8080/"
        },
        "id": "ZebU5AkQfcU7",
        "outputId": "c6a9b5c2-10e0-42f8-e904-e0d3952facbd"
      },
      "execution_count": null,
      "outputs": [
        {
          "output_type": "stream",
          "name": "stdout",
          "text": [
            "50\n",
            "30\n",
            "120\n"
          ]
        }
      ]
    },
    {
      "cell_type": "markdown",
      "source": [
        "Use of print statements and use of (.format )for printing different data types"
      ],
      "metadata": {
        "id": "dRuAHsOHie6s"
      }
    },
    {
      "cell_type": "code",
      "source": [
        "quantity=2\n",
        "itemno=115\n",
        "price=250\n",
        "myorder=\"I want to pay {2} dollars for {0} pieces of item{1}\"\n",
        "print(myorder.format(quantity,itemno,price))"
      ],
      "metadata": {
        "colab": {
          "base_uri": "https://localhost:8080/"
        },
        "id": "Tsk00_neikHk",
        "outputId": "a6099711-b583-4dda-8e65-f965cbfbf40d"
      },
      "execution_count": null,
      "outputs": [
        {
          "output_type": "stream",
          "name": "stdout",
          "text": [
            "I want to pay 250 dollars for 2 pieces of item115\n"
          ]
        }
      ]
    },
    {
      "cell_type": "markdown",
      "source": [
        "Take 2 numbers as user input and add, multiply, divide, subtract, remainder and print\n",
        "the output (Same operations on floating point input as well)"
      ],
      "metadata": {
        "id": "qjb-j_RnhIy8"
      }
    },
    {
      "cell_type": "code",
      "source": [
        "\n",
        "a=int(input(\"enter a number\"))\n",
        "b=int(input(\"enter a number\"))\n",
        "sum=a+b\n",
        "print(sum)\n",
        "difference=a-b\n",
        "print(difference)\n",
        "product=a*b\n",
        "print(product)\n",
        "division=a/b\n",
        "print(division)\n",
        "rem=a%b\n",
        "print(rem)"
      ],
      "metadata": {
        "colab": {
          "base_uri": "https://localhost:8080/"
        },
        "id": "k49RRsx8iFo6",
        "outputId": "3dfd3d02-9519-42b1-eea0-783ba7414938"
      },
      "execution_count": null,
      "outputs": [
        {
          "output_type": "stream",
          "name": "stdout",
          "text": [
            "enter a number15\n",
            "enter a number10\n",
            "25\n",
            "5\n",
            "150\n",
            "1.5\n",
            "5\n"
          ]
        }
      ]
    },
    {
      "cell_type": "markdown",
      "source": [
        "Conversion of one unit to another (such as hours to minutes, miles to km and etc)"
      ],
      "metadata": {
        "id": "EBcYG8pPjqDF"
      }
    },
    {
      "cell_type": "code",
      "source": [
        "#hours to minutes\n",
        "h=int(input(\"enter hours\"))\n",
        "m=h*60\n",
        "print(m,\"minutes\")\n",
        "\n",
        "#kilometers to meters and centimeters\n",
        "km=int(input(\"enter km\"))\n",
        "m=km*1000\n",
        "cm=m*100\n",
        "print(m,\"meters\")\n",
        "print(cm,\"centimeters\")"
      ],
      "metadata": {
        "colab": {
          "base_uri": "https://localhost:8080/"
        },
        "id": "dvXnlWqykHHT",
        "outputId": "7d2afdc5-a6d5-4caa-cb3b-29e0220ba16a"
      },
      "execution_count": null,
      "outputs": [
        {
          "output_type": "stream",
          "name": "stdout",
          "text": [
            "enter hours5\n",
            "300 minutes\n",
            "enter km35\n",
            "35000 meters\n",
            "3500000 centimeters\n"
          ]
        }
      ]
    },
    {
      "cell_type": "markdown",
      "source": [
        "Accepting 5 different subject marks from user and displaying the grade of the student"
      ],
      "metadata": {
        "id": "q0yml8uemN27"
      }
    },
    {
      "cell_type": "code",
      "source": [
        "a=int(input(\"enter marks of english\"))\n",
        "b=int(input(\"enter marks of hindi\"))\n",
        "c=int(input(\"enter marks of science\"))\n",
        "d=int(input(\"enter marks of social\"))\n",
        "e=int(input(\"enter marks of math\"))\n",
        "avg=(a+b+c+d+e)/5\n",
        "if(avg>90):\n",
        "  print(\"grade A\")\n",
        "elif(avg>=80&avg<90):\n",
        "   print(\"grade B\")\n",
        "elif(avg>=70&avg<80):\n",
        "    print(\"grade C\")\n",
        "elif(avg>=60&avg<70):\n",
        "    print(\"grade D\")\n",
        "else:\n",
        "      print(\"grade F\")"
      ],
      "metadata": {
        "colab": {
          "base_uri": "https://localhost:8080/"
        },
        "id": "gDQHmCzfmWjJ",
        "outputId": "eeeac2db-f82e-4161-b91a-02425c96d997"
      },
      "execution_count": null,
      "outputs": [
        {
          "output_type": "stream",
          "name": "stdout",
          "text": [
            "enter marks of english90\n",
            "enter marks of hindi91\n",
            "enter marks of science92\n",
            "enter marks of social93\n",
            "enter marks of math90\n",
            "grade A\n"
          ]
        }
      ]
    }
  ]
}
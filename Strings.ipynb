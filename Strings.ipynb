{
  "nbformat": 4,
  "nbformat_minor": 0,
  "metadata": {
    "colab": {
      "name": "Strings.ipynb",
      "provenance": [],
      "authorship_tag": "ABX9TyNwnTIACUXvtYdnd1M529L4",
      "include_colab_link": true
    },
    "kernelspec": {
      "name": "python3",
      "display_name": "Python 3"
    },
    "language_info": {
      "name": "python"
    }
  },
  "cells": [
    {
      "cell_type": "markdown",
      "metadata": {
        "id": "view-in-github",
        "colab_type": "text"
      },
      "source": [
        "<a href=\"https://colab.research.google.com/github/praneetha2003/python-new/blob/module-2/Strings.ipynb\" target=\"_parent\"><img src=\"https://colab.research.google.com/assets/colab-badge.svg\" alt=\"Open In Colab\"/></a>"
      ]
    },
    {
      "cell_type": "markdown",
      "source": [
        "**strings**"
      ],
      "metadata": {
        "id": "h1Imi7ymQ5nK"
      }
    },
    {
      "cell_type": "markdown",
      "source": [
        "**lower case**"
      ],
      "metadata": {
        "id": "RYGLkjkvRAop"
      }
    },
    {
      "cell_type": "code",
      "source": [
        "a=\"PRANEETHA\"\n",
        "print(a.lower())"
      ],
      "metadata": {
        "colab": {
          "base_uri": "https://localhost:8080/"
        },
        "id": "YBEaCnzqRD97",
        "outputId": "17c48e47-0e6f-48c9-8ffd-386648938cf1"
      },
      "execution_count": null,
      "outputs": [
        {
          "output_type": "stream",
          "name": "stdout",
          "text": [
            "praneetha\n"
          ]
        }
      ]
    },
    {
      "cell_type": "markdown",
      "source": [
        "**upper case**"
      ],
      "metadata": {
        "id": "_cFpgpm9RRlW"
      }
    },
    {
      "cell_type": "code",
      "source": [
        "a=\"praneetha\"\n",
        "print(a.upper())"
      ],
      "metadata": {
        "colab": {
          "base_uri": "https://localhost:8080/"
        },
        "id": "XjXJx2AyRWp3",
        "outputId": "cdd02b85-9bb4-47f1-9b39-0c753d39d96e"
      },
      "execution_count": null,
      "outputs": [
        {
          "output_type": "stream",
          "name": "stdout",
          "text": [
            "PRANEETHA\n"
          ]
        }
      ]
    },
    {
      "cell_type": "markdown",
      "source": [
        "**remove space**"
      ],
      "metadata": {
        "id": "HWUFzISlRdYt"
      }
    },
    {
      "cell_type": "code",
      "source": [
        "a=\"    hie hello how are you     \"\n",
        "print(a.strip())"
      ],
      "metadata": {
        "colab": {
          "base_uri": "https://localhost:8080/"
        },
        "id": "HCeSGM35Rg38",
        "outputId": "20a61fa1-97db-4887-b736-ce7032e642c5"
      },
      "execution_count": null,
      "outputs": [
        {
          "output_type": "stream",
          "name": "stdout",
          "text": [
            "hie hello how are you\n"
          ]
        }
      ]
    },
    {
      "cell_type": "markdown",
      "source": [
        "**replace string**"
      ],
      "metadata": {
        "id": "ufBicWD7RmRV"
      }
    },
    {
      "cell_type": "code",
      "source": [
        "a=\" have a nyc day\"\n",
        "print(a.replace(\"nyc\",\"good\"))"
      ],
      "metadata": {
        "colab": {
          "base_uri": "https://localhost:8080/"
        },
        "id": "uXMAbWnYRqjz",
        "outputId": "6358e4ec-0b71-448a-b71a-6f1943768017"
      },
      "execution_count": null,
      "outputs": [
        {
          "output_type": "stream",
          "name": "stdout",
          "text": [
            " have a good day\n"
          ]
        }
      ]
    },
    {
      "cell_type": "markdown",
      "source": [
        "**split string**"
      ],
      "metadata": {
        "id": "xYhCQu3ERxdh"
      }
    },
    {
      "cell_type": "code",
      "source": [
        "a=\"simple samosa\"\n",
        "print(a.split())\n",
        "a=\"simple ,samosa\"\n",
        "print(a.split(\",\"))"
      ],
      "metadata": {
        "colab": {
          "base_uri": "https://localhost:8080/"
        },
        "id": "nB2Fqq8SR0Hb",
        "outputId": "935e98f0-90f3-4fc5-e9cc-fc9666319fbc"
      },
      "execution_count": null,
      "outputs": [
        {
          "output_type": "stream",
          "name": "stdout",
          "text": [
            "['simple', 'samosa']\n",
            "['simple ', 'samosa']\n"
          ]
        }
      ]
    },
    {
      "cell_type": "markdown",
      "source": [
        "**String Concatenation**"
      ],
      "metadata": {
        "id": "20TnEsi6R8Cs"
      }
    },
    {
      "cell_type": "code",
      "source": [
        "a=\"akshaya\"\n",
        "b=\"monangi\"\n",
        "c=a+b\n",
        "print(c)\n",
        "a=\"motu\"\n",
        "b=\"patlu\"\n",
        "c=a+\"\"+b \n",
        "print(c)"
      ],
      "metadata": {
        "colab": {
          "base_uri": "https://localhost:8080/"
        },
        "id": "Z4uEoRfaSBaj",
        "outputId": "4bf560c0-a973-4203-d1c6-2adec61c9f82"
      },
      "execution_count": null,
      "outputs": [
        {
          "output_type": "stream",
          "name": "stdout",
          "text": [
            "akshayamonangi\n",
            "motupatlu\n"
          ]
        }
      ]
    },
    {
      "cell_type": "markdown",
      "source": [
        "**format string**"
      ],
      "metadata": {
        "id": "fH7HvudOSGZM"
      }
    },
    {
      "cell_type": "code",
      "source": [
        "math=int(input(\"enter marks\"))\n",
        "phy=int(input(\"enter marks\"))\n",
        "chem=int(input(\"enter marks\"))\n",
        "python=int(input(\"enter marks\"))\n",
        "mymarks=\"my math marks are {} ,phy are  {} , chem are {} , python are {}\"\n",
        "print(mymarks.format(math,phy,chem,python))"
      ],
      "metadata": {
        "colab": {
          "base_uri": "https://localhost:8080/"
        },
        "id": "RhYWUSLlSM6v",
        "outputId": "d8db00a4-66e7-49d7-e3c7-63048c07b19c"
      },
      "execution_count": null,
      "outputs": [
        {
          "output_type": "stream",
          "name": "stdout",
          "text": [
            "enter marks90\n",
            "enter marks93\n",
            "enter marks92\n",
            "enter marks90\n",
            "my math marks are 90 ,phy are  93 , chem are 92 , python are 90\n"
          ]
        }
      ]
    },
    {
      "cell_type": "markdown",
      "source": [
        "**characteristics**"
      ],
      "metadata": {
        "id": "_Ty5jApvSjsf"
      }
    },
    {
      "cell_type": "code",
      "source": [
        "a=\"it\\'s allright\"\n",
        "print(a)\n",
        "a=\"happy \\\\ birthday\"\n",
        "print(a)\n",
        "a=\"hello \\n how are you\"\n",
        "print(a)\n",
        "a=\"hie\\rhow are you\"\n",
        "print(a)\n",
        "a=\"turning\\tred\"\n",
        "print(a)\n",
        "a=\"turning \\b red\"\n",
        "print(a)\n",
        "a=\"turning\\fred\"\n",
        "print(a)\n"
      ],
      "metadata": {
        "colab": {
          "base_uri": "https://localhost:8080/"
        },
        "id": "Twg-dF6zSmLC",
        "outputId": "fabb402b-39d6-4f21-9d50-33fd61758a22"
      },
      "execution_count": null,
      "outputs": [
        {
          "output_type": "stream",
          "name": "stdout",
          "text": [
            "it's allright\n",
            "happy \\ birthday\n",
            "hello \n",
            " how are you\n",
            "hie\rhow are you\n",
            "turning\tred\n",
            "turning \b red\n",
            "turning\fred\n"
          ]
        }
      ]
    },
    {
      "cell_type": "markdown",
      "source": [
        "**string methods**"
      ],
      "metadata": {
        "id": "oi1ut3iUSuQl"
      }
    },
    {
      "cell_type": "code",
      "source": [
        "a=\"praneetha\"\n",
        "b=a.capitalize()\n",
        "print(b)"
      ],
      "metadata": {
        "colab": {
          "base_uri": "https://localhost:8080/"
        },
        "id": "MGDoQCXHSysr",
        "outputId": "a5d69883-58c6-449e-a743-a3cd8cfdf433"
      },
      "execution_count": null,
      "outputs": [
        {
          "output_type": "stream",
          "name": "stdout",
          "text": [
            "Praneetha\n"
          ]
        }
      ]
    },
    {
      "cell_type": "code",
      "source": [
        "a=\"Praneetha\"\n",
        "b=a.casefold()\n",
        "print(b)"
      ],
      "metadata": {
        "colab": {
          "base_uri": "https://localhost:8080/"
        },
        "id": "ebTxNCVFS73b",
        "outputId": "2e8611a7-bc11-40d3-f54c-a382b6463932"
      },
      "execution_count": null,
      "outputs": [
        {
          "output_type": "stream",
          "name": "stdout",
          "text": [
            "praneetha\n"
          ]
        }
      ]
    },
    {
      "cell_type": "code",
      "source": [
        "a=\"praneetha\"\n",
        "b=a.center(30)\n",
        "print(b)"
      ],
      "metadata": {
        "colab": {
          "base_uri": "https://localhost:8080/"
        },
        "id": "NEcR0r_pTFSE",
        "outputId": "6a53b755-2f93-43e0-edc9-d9012bc7f104"
      },
      "execution_count": null,
      "outputs": [
        {
          "output_type": "stream",
          "name": "stdout",
          "text": [
            "          praneetha           \n"
          ]
        }
      ]
    },
    {
      "cell_type": "code",
      "source": [
        "a=\"hello world welcome to my world\"\n",
        "b=a.count(\"\")\n",
        "print(b)"
      ],
      "metadata": {
        "colab": {
          "base_uri": "https://localhost:8080/"
        },
        "id": "3IsDF60XTO-Y",
        "outputId": "8e9b6095-6f62-4e01-8c4d-1855bf35956d"
      },
      "execution_count": null,
      "outputs": [
        {
          "output_type": "stream",
          "name": "stdout",
          "text": [
            "32\n"
          ]
        }
      ]
    }
  ]
}
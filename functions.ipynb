{
  "nbformat": 4,
  "nbformat_minor": 0,
  "metadata": {
    "colab": {
      "name": "functions.ipynb",
      "provenance": [],
      "authorship_tag": "ABX9TyMFWi1Wt7Ei5eKxHE29Vade",
      "include_colab_link": true
    },
    "kernelspec": {
      "name": "python3",
      "display_name": "Python 3"
    },
    "language_info": {
      "name": "python"
    }
  },
  "cells": [
    {
      "cell_type": "markdown",
      "metadata": {
        "id": "view-in-github",
        "colab_type": "text"
      },
      "source": [
        "<a href=\"https://colab.research.google.com/github/praneetha2003/python-new/blob/module-2/functions.ipynb\" target=\"_parent\"><img src=\"https://colab.research.google.com/assets/colab-badge.svg\" alt=\"Open In Colab\"/></a>"
      ]
    },
    {
      "cell_type": "markdown",
      "source": [
        "**functions**"
      ],
      "metadata": {
        "id": "JcQkuBSVjkN6"
      }
    },
    {
      "cell_type": "markdown",
      "source": [
        "**creating and calling a function**"
      ],
      "metadata": {
        "id": "QI6g8frtjoYY"
      }
    },
    {
      "cell_type": "code",
      "source": [
        "def function():\n",
        "  print(\"praneetha\")\n",
        "function()"
      ],
      "metadata": {
        "colab": {
          "base_uri": "https://localhost:8080/"
        },
        "id": "Rj2lF23yjtMH",
        "outputId": "d603a411-7ad9-4166-9c26-db2388f3ebec"
      },
      "execution_count": null,
      "outputs": [
        {
          "output_type": "stream",
          "name": "stdout",
          "text": [
            "praneetha\n"
          ]
        }
      ]
    },
    {
      "cell_type": "markdown",
      "source": [
        "**arguments**\n"
      ],
      "metadata": {
        "id": "idv0ni4bj2d6"
      }
    },
    {
      "cell_type": "code",
      "source": [
        "def function(name):\n",
        " print(name+\"Edara\")\n",
        "function(\"Praneetha \")\n",
        "function(\"Lahari \")"
      ],
      "metadata": {
        "colab": {
          "base_uri": "https://localhost:8080/"
        },
        "id": "cofoIIPHkgF_",
        "outputId": "df22b225-10a9-45d7-a558-d28461efc158"
      },
      "execution_count": null,
      "outputs": [
        {
          "output_type": "stream",
          "name": "stdout",
          "text": [
            "Praneetha Edara\n",
            "Lahari Edara\n"
          ]
        }
      ]
    },
    {
      "cell_type": "markdown",
      "source": [
        "**number of arguments**"
      ],
      "metadata": {
        "id": "gbkzmnBtmANh"
      }
    },
    {
      "cell_type": "code",
      "source": [
        "def function(name, lname):\n",
        "  print(name+\" \"+lname)\n",
        "function(\"Praneetha\" , \"Edara\")"
      ],
      "metadata": {
        "colab": {
          "base_uri": "https://localhost:8080/"
        },
        "id": "-acLS-OnmDs-",
        "outputId": "8e707967-b0d5-4991-e584-836e1299909c"
      },
      "execution_count": null,
      "outputs": [
        {
          "output_type": "stream",
          "name": "stdout",
          "text": [
            "Praneetha Edara\n"
          ]
        }
      ]
    },
    {
      "cell_type": "markdown",
      "source": [
        "**arbitary functon**"
      ],
      "metadata": {
        "id": "Ijqrg9y7mqc_"
      }
    },
    {
      "cell_type": "code",
      "source": [
        "def function(*name):\n",
        "  print(\"My name is \"+name[0])\n",
        "function(\"Praneetha\",\"Rohith\",\"Lahari\")"
      ],
      "metadata": {
        "colab": {
          "base_uri": "https://localhost:8080/"
        },
        "id": "vPTFJRuTmtht",
        "outputId": "2dbb5492-ca15-4305-96fb-91277da1ec71"
      },
      "execution_count": null,
      "outputs": [
        {
          "output_type": "stream",
          "name": "stdout",
          "text": [
            "My name is Praneetha\n"
          ]
        }
      ]
    },
    {
      "cell_type": "markdown",
      "source": [
        "**keyword arguments**"
      ],
      "metadata": {
        "id": "IgkBmCBKnXnh"
      }
    },
    {
      "cell_type": "code",
      "source": [
        "def function(name3, name2, name1):\n",
        "  print(\"My name is \"+name3)\n",
        "function(name1=\"Lahari\", name2=\"Praneetha\", name3=\"Rohith\")"
      ],
      "metadata": {
        "colab": {
          "base_uri": "https://localhost:8080/"
        },
        "id": "3tOx0D3AneNN",
        "outputId": "fcea5be4-faf7-4c7d-f201-8524fbeed09e"
      },
      "execution_count": null,
      "outputs": [
        {
          "output_type": "stream",
          "name": "stdout",
          "text": [
            "My name is Rohith\n"
          ]
        }
      ]
    }
  ]
}
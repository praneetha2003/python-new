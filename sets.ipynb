{
  "nbformat": 4,
  "nbformat_minor": 0,
  "metadata": {
    "colab": {
      "name": "sets.ipynb",
      "provenance": [],
      "authorship_tag": "ABX9TyM4iX1oYxpP5PkcjCBDddE1",
      "include_colab_link": true
    },
    "kernelspec": {
      "name": "python3",
      "display_name": "Python 3"
    },
    "language_info": {
      "name": "python"
    }
  },
  "cells": [
    {
      "cell_type": "markdown",
      "metadata": {
        "id": "view-in-github",
        "colab_type": "text"
      },
      "source": [
        "<a href=\"https://colab.research.google.com/github/praneetha2003/python-new/blob/module-2/sets.ipynb\" target=\"_parent\"><img src=\"https://colab.research.google.com/assets/colab-badge.svg\" alt=\"Open In Colab\"/></a>"
      ]
    },
    {
      "cell_type": "markdown",
      "source": [
        "**SETS**"
      ],
      "metadata": {
        "id": "e2njP3rtPZeH"
      }
    },
    {
      "cell_type": "code",
      "source": [
        "colours={\"pink\",\"blue\",\"white\"}\n",
        "print(colours)"
      ],
      "metadata": {
        "colab": {
          "base_uri": "https://localhost:8080/"
        },
        "id": "ntuhsIYHP7pf",
        "outputId": "2ea32aca-b4d3-429b-e091-8e28fbfcb883"
      },
      "execution_count": null,
      "outputs": [
        {
          "output_type": "stream",
          "name": "stdout",
          "text": [
            "{'white', 'pink', 'blue'}\n"
          ]
        }
      ]
    },
    {
      "cell_type": "markdown",
      "source": [
        "**duplicate**"
      ],
      "metadata": {
        "id": "OamtRQVnSXuf"
      }
    },
    {
      "cell_type": "code",
      "source": [
        "colours={\"pink\",\"blue\",\"white\",\"blue\"}\n",
        "print(colours)"
      ],
      "metadata": {
        "colab": {
          "base_uri": "https://localhost:8080/"
        },
        "id": "L6RM6ts0RDzd",
        "outputId": "fbb5ce9a-1b2f-459c-cd18-335d9d80c485"
      },
      "execution_count": null,
      "outputs": [
        {
          "output_type": "stream",
          "name": "stdout",
          "text": [
            "{'white', 'pink', 'blue'}\n"
          ]
        }
      ]
    },
    {
      "cell_type": "markdown",
      "source": [
        "**length**"
      ],
      "metadata": {
        "id": "ApWBLi7iScCm"
      }
    },
    {
      "cell_type": "code",
      "source": [
        "colours={\"pink\",\"blue\",\"white\"}\n",
        "print(len(colours))"
      ],
      "metadata": {
        "colab": {
          "base_uri": "https://localhost:8080/"
        },
        "id": "sokSLm56RTTP",
        "outputId": "a0e39001-d810-49f5-bb8b-3c903f3f775c"
      },
      "execution_count": null,
      "outputs": [
        {
          "output_type": "stream",
          "name": "stdout",
          "text": [
            "3\n"
          ]
        }
      ]
    },
    {
      "cell_type": "markdown",
      "source": [
        "**type**"
      ],
      "metadata": {
        "id": "fWt820ZWSfxO"
      }
    },
    {
      "cell_type": "code",
      "source": [
        "colours={\"pink\",\"blue\",\"white\"}\n",
        "print(type(colours))"
      ],
      "metadata": {
        "colab": {
          "base_uri": "https://localhost:8080/"
        },
        "id": "kKyU5JWRRfM2",
        "outputId": "6e4356e5-309b-43a4-c319-75535638b42e"
      },
      "execution_count": null,
      "outputs": [
        {
          "output_type": "stream",
          "name": "stdout",
          "text": [
            "<class 'set'>\n"
          ]
        }
      ]
    },
    {
      "cell_type": "markdown",
      "source": [
        "**acess items**"
      ],
      "metadata": {
        "id": "uB46yjHsSkBH"
      }
    },
    {
      "cell_type": "code",
      "source": [
        "colours={\"pink\",\"blue\",\"white\"}\n",
        "for x in colours:\n",
        "    print(x)"
      ],
      "metadata": {
        "colab": {
          "base_uri": "https://localhost:8080/"
        },
        "id": "jqPjpCnVRkju",
        "outputId": "98c11f17-c90c-4998-debe-c6b4a1aeb160"
      },
      "execution_count": null,
      "outputs": [
        {
          "output_type": "stream",
          "name": "stdout",
          "text": [
            "white\n",
            "pink\n",
            "blue\n"
          ]
        }
      ]
    },
    {
      "cell_type": "code",
      "source": [
        "colours={\"pink\",\"blue\",\"white\"}\n",
        "print(\"pink\" in colours)"
      ],
      "metadata": {
        "colab": {
          "base_uri": "https://localhost:8080/"
        },
        "id": "dDGyDrcaR55m",
        "outputId": "446fc5ea-2104-4e21-f51d-ec04cd6db8fd"
      },
      "execution_count": null,
      "outputs": [
        {
          "output_type": "stream",
          "name": "stdout",
          "text": [
            "True\n"
          ]
        }
      ]
    },
    {
      "cell_type": "markdown",
      "source": [
        "**add items**"
      ],
      "metadata": {
        "id": "MYrwzO0xSuEe"
      }
    },
    {
      "cell_type": "code",
      "source": [
        "colours={\"pink\",\"blue\",\"white\"}\n",
        "colours.add(\"black\")\n",
        "print(colours)"
      ],
      "metadata": {
        "colab": {
          "base_uri": "https://localhost:8080/"
        },
        "id": "PPJWZcEsSwFV",
        "outputId": "c3007c24-b4ab-4d48-eae3-43e1c1c9d5da"
      },
      "execution_count": null,
      "outputs": [
        {
          "output_type": "stream",
          "name": "stdout",
          "text": [
            "{'black', 'white', 'pink', 'blue'}\n"
          ]
        }
      ]
    },
    {
      "cell_type": "markdown",
      "source": [
        "**add sets**"
      ],
      "metadata": {
        "id": "ICLLSjjpS-ie"
      }
    },
    {
      "cell_type": "code",
      "source": [
        "colours={\"pink\",\"blue\",\"white\"}\n",
        "fruits={\"apple\",\"mango\",\"cherry\"}\n",
        "colours.update(fruits)\n",
        "print(colours)"
      ],
      "metadata": {
        "colab": {
          "base_uri": "https://localhost:8080/"
        },
        "id": "Olxec2YITB7F",
        "outputId": "3f6005bb-ba95-4649-a691-0642557e6d23"
      },
      "execution_count": null,
      "outputs": [
        {
          "output_type": "stream",
          "name": "stdout",
          "text": [
            "{'white', 'pink', 'cherry', 'blue', 'mango', 'apple'}\n"
          ]
        }
      ]
    },
    {
      "cell_type": "markdown",
      "source": [
        "**add any iterable**"
      ],
      "metadata": {
        "id": "NqNYwV60Tae2"
      }
    },
    {
      "cell_type": "code",
      "source": [
        "colours={\"pink\",\"blue\",\"white\"}\n",
        "fruits=[\"apples\",\"mango\",\"orange\"]\n",
        "colours.update(fruits)\n",
        "print(colours)"
      ],
      "metadata": {
        "colab": {
          "base_uri": "https://localhost:8080/"
        },
        "id": "MQswqZiQTnjs",
        "outputId": "2184a55b-bb59-49d4-8852-d8eca2f499ae"
      },
      "execution_count": null,
      "outputs": [
        {
          "output_type": "stream",
          "name": "stdout",
          "text": [
            "{'orange', 'pink', 'blue', 'white', 'mango', 'apples'}\n"
          ]
        }
      ]
    },
    {
      "cell_type": "markdown",
      "source": [
        "**remove sets**"
      ],
      "metadata": {
        "id": "THVeCMOZUVSP"
      }
    },
    {
      "cell_type": "code",
      "source": [
        "colours={\"pink\",\"blue\",\"white\"}\n",
        "colours.remove(\"pink\")\n",
        "print(colours)"
      ],
      "metadata": {
        "colab": {
          "base_uri": "https://localhost:8080/"
        },
        "id": "xOiVvOK8UnV8",
        "outputId": "033b2902-afa6-43f2-fdfc-a489c5d73189"
      },
      "execution_count": null,
      "outputs": [
        {
          "output_type": "stream",
          "name": "stdout",
          "text": [
            "{'white', 'blue'}\n"
          ]
        }
      ]
    },
    {
      "cell_type": "code",
      "source": [
        "colours={\"pink\",\"blue\",\"white\"}\n",
        "colours.discard(\"pink\")\n",
        "print(colours)"
      ],
      "metadata": {
        "colab": {
          "base_uri": "https://localhost:8080/"
        },
        "id": "mZ0rn_EEVLe-",
        "outputId": "a3d818e3-3730-4b98-f852-8a4b482a11c7"
      },
      "execution_count": null,
      "outputs": [
        {
          "output_type": "stream",
          "name": "stdout",
          "text": [
            "{'white', 'blue'}\n"
          ]
        }
      ]
    },
    {
      "cell_type": "code",
      "source": [
        "colours={\"pink\",\"blue\",\"white\"}\n",
        "x=colours.pop()\n",
        "print(x)\n",
        "print(colours)"
      ],
      "metadata": {
        "colab": {
          "base_uri": "https://localhost:8080/"
        },
        "id": "tBoaRO_uVgYn",
        "outputId": "a31ba590-d080-48c1-f897-2e264d39ec3f"
      },
      "execution_count": null,
      "outputs": [
        {
          "output_type": "stream",
          "name": "stdout",
          "text": [
            "white\n",
            "{'pink', 'blue'}\n"
          ]
        }
      ]
    },
    {
      "cell_type": "code",
      "source": [
        "colours={\"pink\",\"blue\",\"white\"}\n",
        "colours.clear()\n",
        "print(colours)"
      ],
      "metadata": {
        "colab": {
          "base_uri": "https://localhost:8080/"
        },
        "id": "Jf9dG4ToV4dN",
        "outputId": "a97c3f51-f17c-4e60-c1d4-2fcda0df8e5f"
      },
      "execution_count": null,
      "outputs": [
        {
          "output_type": "stream",
          "name": "stdout",
          "text": [
            "set()\n"
          ]
        }
      ]
    },
    {
      "cell_type": "code",
      "source": [
        "colours={\"pink\",\"blue\",\"white\"}\n",
        "del colours\n",
        "print(colours)"
      ],
      "metadata": {
        "colab": {
          "base_uri": "https://localhost:8080/",
          "height": 200
        },
        "id": "sWPZ6ujWWDyN",
        "outputId": "d7a58348-e0f9-4179-ac97-8f6c030485f7"
      },
      "execution_count": null,
      "outputs": [
        {
          "output_type": "error",
          "ename": "NameError",
          "evalue": "ignored",
          "traceback": [
            "\u001b[0;31m---------------------------------------------------------------------------\u001b[0m",
            "\u001b[0;31mNameError\u001b[0m                                 Traceback (most recent call last)",
            "\u001b[0;32m<ipython-input-25-70358ff2113d>\u001b[0m in \u001b[0;36m<module>\u001b[0;34m()\u001b[0m\n\u001b[1;32m      1\u001b[0m \u001b[0mcolours\u001b[0m\u001b[0;34m=\u001b[0m\u001b[0;34m{\u001b[0m\u001b[0;34m\"pink\"\u001b[0m\u001b[0;34m,\u001b[0m\u001b[0;34m\"blue\"\u001b[0m\u001b[0;34m,\u001b[0m\u001b[0;34m\"white\"\u001b[0m\u001b[0;34m}\u001b[0m\u001b[0;34m\u001b[0m\u001b[0;34m\u001b[0m\u001b[0m\n\u001b[1;32m      2\u001b[0m \u001b[0;32mdel\u001b[0m \u001b[0mcolours\u001b[0m\u001b[0;34m\u001b[0m\u001b[0;34m\u001b[0m\u001b[0m\n\u001b[0;32m----> 3\u001b[0;31m \u001b[0mprint\u001b[0m\u001b[0;34m(\u001b[0m\u001b[0mcolours\u001b[0m\u001b[0;34m)\u001b[0m\u001b[0;34m\u001b[0m\u001b[0;34m\u001b[0m\u001b[0m\n\u001b[0m",
            "\u001b[0;31mNameError\u001b[0m: name 'colours' is not defined"
          ]
        }
      ]
    },
    {
      "cell_type": "markdown",
      "source": [
        "**loop sets**"
      ],
      "metadata": {
        "id": "J3ApjHDYWXbr"
      }
    },
    {
      "cell_type": "code",
      "source": [
        "colours={\"pink\",\"blue\",\"white\"}\n",
        "for x in colours: \n",
        " print(x)"
      ],
      "metadata": {
        "colab": {
          "base_uri": "https://localhost:8080/"
        },
        "id": "Gep22D5iWcG7",
        "outputId": "99c7ccab-be9e-4deb-f92e-a5ccd7e4ba60"
      },
      "execution_count": null,
      "outputs": [
        {
          "output_type": "stream",
          "name": "stdout",
          "text": [
            "white\n",
            "pink\n",
            "blue\n"
          ]
        }
      ]
    }
  ]
}
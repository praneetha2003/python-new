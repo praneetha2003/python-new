{
  "nbformat": 4,
  "nbformat_minor": 0,
  "metadata": {
    "colab": {
      "name": "Untitled1.ipynb",
      "provenance": [],
      "authorship_tag": "ABX9TyMhoyPYJLkVA36kgi/hheM0",
      "include_colab_link": true
    },
    "kernelspec": {
      "name": "python3",
      "display_name": "Python 3"
    },
    "language_info": {
      "name": "python"
    }
  },
  "cells": [
    {
      "cell_type": "markdown",
      "metadata": {
        "id": "view-in-github",
        "colab_type": "text"
      },
      "source": [
        "<a href=\"https://colab.research.google.com/github/praneetha2003/python-new/blob/module-2/Untitled1.ipynb\" target=\"_parent\"><img src=\"https://colab.research.google.com/assets/colab-badge.svg\" alt=\"Open In Colab\"/></a>"
      ]
    },
    {
      "cell_type": "markdown",
      "source": [
        "Strings"
      ],
      "metadata": {
        "id": "wXH-GqGNZhxA"
      }
    },
    {
      "cell_type": "markdown",
      "source": [
        "upper case"
      ],
      "metadata": {
        "id": "611LZ6YdZt3Y"
      }
    },
    {
      "cell_type": "code",
      "source": [
        "a=\"PRANEETHA\"\n",
        "print(a.lower())"
      ],
      "metadata": {
        "colab": {
          "base_uri": "https://localhost:8080/"
        },
        "id": "bjcTM7bbZwq3",
        "outputId": "5acd145d-cb14-411a-e41c-62301c75405a"
      },
      "execution_count": null,
      "outputs": [
        {
          "output_type": "stream",
          "name": "stdout",
          "text": [
            "praneetha\n"
          ]
        }
      ]
    },
    {
      "cell_type": "markdown",
      "source": [
        "lower case"
      ],
      "metadata": {
        "id": "DBmtvYuFaLcL"
      }
    },
    {
      "cell_type": "code",
      "source": [
        "a=\"praneetha\"\n",
        "print(a.upper())"
      ],
      "metadata": {
        "colab": {
          "base_uri": "https://localhost:8080/"
        },
        "id": "yJsSlHR7aMjt",
        "outputId": "56fc8e19-65e2-4a85-efaa-10ec3935e1e6"
      },
      "execution_count": null,
      "outputs": [
        {
          "output_type": "stream",
          "name": "stdout",
          "text": [
            "PRANEETHA\n"
          ]
        }
      ]
    },
    {
      "cell_type": "markdown",
      "source": [
        "remove spaces"
      ],
      "metadata": {
        "id": "lO9KOhwyaUyK"
      }
    },
    {
      "cell_type": "code",
      "source": [
        "a=\"    how are you   \"\n",
        "print(a.strip())"
      ],
      "metadata": {
        "colab": {
          "base_uri": "https://localhost:8080/"
        },
        "id": "nXXn80s8aXLX",
        "outputId": "4a2a7166-9b4b-4aa6-e1c7-17c9294d9707"
      },
      "execution_count": null,
      "outputs": [
        {
          "output_type": "stream",
          "name": "stdout",
          "text": [
            "how are you\n"
          ]
        }
      ]
    },
    {
      "cell_type": "markdown",
      "source": [
        "replace string"
      ],
      "metadata": {
        "id": "nzSt3stlaqlw"
      }
    },
    {
      "cell_type": "code",
      "source": [
        "a=\"have a nice day\"\n",
        "print(a.replace(\"nice\",\"good\"))"
      ],
      "metadata": {
        "colab": {
          "base_uri": "https://localhost:8080/"
        },
        "id": "oCJF3fygaseH",
        "outputId": "8e6d712c-1b5b-41fe-e128-57d75f11808f"
      },
      "execution_count": null,
      "outputs": [
        {
          "output_type": "stream",
          "name": "stdout",
          "text": [
            "have a good day\n"
          ]
        }
      ]
    },
    {
      "cell_type": "markdown",
      "source": [
        "split string"
      ],
      "metadata": {
        "id": "Dzexk39ua89Y"
      }
    },
    {
      "cell_type": "code",
      "source": [
        "a=\"doremon cartoon\"\n",
        "print(a.split())\n",
        "a=\"doremon , cartoon\"\n",
        "print(a.split(\",\"))"
      ],
      "metadata": {
        "colab": {
          "base_uri": "https://localhost:8080/"
        },
        "id": "04KB2u8na-S3",
        "outputId": "86e3c4d5-1cfc-4b70-acf6-1f2932e804ff"
      },
      "execution_count": null,
      "outputs": [
        {
          "output_type": "stream",
          "name": "stdout",
          "text": [
            "['doremon', 'cartoon']\n",
            "['doremon ', ' cartoon']\n"
          ]
        }
      ]
    },
    {
      "cell_type": "markdown",
      "source": [
        "string concatenation"
      ],
      "metadata": {
        "id": "xNrFmPGwcYwi"
      }
    },
    {
      "cell_type": "code",
      "source": [
        "a=\"praneetha\"\n",
        "b=\"edara\"\n",
        "c=a+b\n",
        "print(c)"
      ],
      "metadata": {
        "colab": {
          "base_uri": "https://localhost:8080/"
        },
        "id": "FhlmUYpHcbmI",
        "outputId": "e3c993c9-53c7-4673-ee11-b578b89c52be"
      },
      "execution_count": null,
      "outputs": [
        {
          "output_type": "stream",
          "name": "stdout",
          "text": [
            "praneethaedara\n"
          ]
        }
      ]
    },
    {
      "cell_type": "markdown",
      "source": [
        "format string"
      ],
      "metadata": {
        "id": "8s6VI2p7hLnR"
      }
    },
    {
      "cell_type": "code",
      "source": [
        "quantity=3\n",
        "item=\"chocolate\"\n",
        "price=100\n",
        "myorder=\"I want{}pieces of item {}of price{}\"\n",
        "print(myorder.format(quantity,item,price))"
      ],
      "metadata": {
        "colab": {
          "base_uri": "https://localhost:8080/"
        },
        "id": "J6E1Z5iBhNUo",
        "outputId": "a69d4be2-daa0-4635-e81a-b25ea00e0ba7"
      },
      "execution_count": null,
      "outputs": [
        {
          "output_type": "stream",
          "name": "stdout",
          "text": [
            "I want3pieces of item chocolateof price100\n"
          ]
        }
      ]
    },
    {
      "cell_type": "code",
      "source": [
        "math=int(input(\"enter marks\"))\n",
        "phy=int(input(\"enter marks\"))\n",
        "chem=int(input(\"enter marks\"))\n",
        "python=int(input(\"enter marks\"))\n",
        "mymarks=\"my math marks are {} , phy marks are {} , chem marks are{} , python marks are{}\"\n",
        "print(mymarks.format(math,phy,chem,python))"
      ],
      "metadata": {
        "colab": {
          "base_uri": "https://localhost:8080/"
        },
        "id": "19WaQQ7Giwky",
        "outputId": "ff7063fc-ae62-49ee-b9e2-0bb12a1406fe"
      },
      "execution_count": null,
      "outputs": [
        {
          "output_type": "stream",
          "name": "stdout",
          "text": [
            "enter marks95\n",
            "enter marks90\n",
            "enter marks93\n",
            "enter marks95\n",
            "my math marks are 95 , phy marks are 90 , chem marks are93 , python marks are95\n"
          ]
        }
      ]
    },
    {
      "cell_type": "markdown",
      "source": [
        "string methods"
      ],
      "metadata": {
        "id": "vkkirQ-moO0p"
      }
    },
    {
      "cell_type": "code",
      "source": [
        "a=\"praneetha\"\n",
        "b=a.capitalize()\n",
        "print(b)"
      ],
      "metadata": {
        "colab": {
          "base_uri": "https://localhost:8080/"
        },
        "id": "WKk0RR5HoSIg",
        "outputId": "4419631d-11ae-44b4-ee72-727d657eac3a"
      },
      "execution_count": null,
      "outputs": [
        {
          "output_type": "stream",
          "name": "stdout",
          "text": [
            "Praneetha\n"
          ]
        }
      ]
    },
    {
      "cell_type": "code",
      "source": [
        "a=\"Praneetha\"\n",
        "b=a.casefold()\n",
        "print(b)"
      ],
      "metadata": {
        "colab": {
          "base_uri": "https://localhost:8080/"
        },
        "id": "aJC_oLMgpLrD",
        "outputId": "4630de52-d48a-42f6-a417-8ddeea449c84"
      },
      "execution_count": null,
      "outputs": [
        {
          "output_type": "stream",
          "name": "stdout",
          "text": [
            "praneetha\n"
          ]
        }
      ]
    },
    {
      "cell_type": "code",
      "source": [
        "a=\"praneetha\"\n",
        "b=a.center(30)\n",
        "print(b)"
      ],
      "metadata": {
        "colab": {
          "base_uri": "https://localhost:8080/"
        },
        "id": "WVX8ncvqpYIZ",
        "outputId": "4f327381-5f84-4efc-9edf-0dc102e202d7"
      },
      "execution_count": null,
      "outputs": [
        {
          "output_type": "stream",
          "name": "stdout",
          "text": [
            "          praneetha           \n"
          ]
        }
      ]
    },
    {
      "cell_type": "code",
      "source": [
        "a=\"hello world welcome to my word\"\n",
        "b=a.count(\"\")\n",
        "print(b)"
      ],
      "metadata": {
        "colab": {
          "base_uri": "https://localhost:8080/"
        },
        "id": "jJ01_aXupnKx",
        "outputId": "c81c5c28-258c-4b1f-eb7f-f620cb857b88"
      },
      "execution_count": null,
      "outputs": [
        {
          "output_type": "stream",
          "name": "stdout",
          "text": [
            "31\n"
          ]
        }
      ]
    },
    {
      "cell_type": "code",
      "source": [
        ""
      ],
      "metadata": {
        "id": "KS5s6JdJqwrM"
      },
      "execution_count": null,
      "outputs": []
    }
  ]
}